{
 "cells": [
  {
   "cell_type": "code",
   "execution_count": 1,
   "id": "84b6c5b7",
   "metadata": {},
   "outputs": [],
   "source": [
    "import numpy as np"
   ]
  },
  {
   "cell_type": "code",
   "execution_count": 2,
   "id": "30590ad3",
   "metadata": {},
   "outputs": [
    {
     "data": {
      "text/plain": [
       "array([0., 0., 0., 0., 0., 0., 0., 0., 0., 0., 0., 0., 0., 0., 0., 0., 0.,\n",
       "       0., 0., 0.])"
      ]
     },
     "execution_count": 2,
     "metadata": {},
     "output_type": "execute_result"
    }
   ],
   "source": [
    "a=np.zeros(20)\n",
    "a\n"
   ]
  },
  {
   "cell_type": "code",
   "execution_count": 5,
   "id": "8863bf3a",
   "metadata": {},
   "outputs": [
    {
     "data": {
      "text/plain": [
       "array([[0., 0., 0., 0.],\n",
       "       [0., 0., 0., 0.],\n",
       "       [0., 0., 0., 0.],\n",
       "       [0., 0., 0., 0.],\n",
       "       [0., 0., 0., 0.]])"
      ]
     },
     "execution_count": 5,
     "metadata": {},
     "output_type": "execute_result"
    }
   ],
   "source": [
    "a.reshape(5,-1)"
   ]
  },
  {
   "cell_type": "code",
   "execution_count": 8,
   "id": "2336a162",
   "metadata": {},
   "outputs": [
    {
     "data": {
      "text/plain": [
       "array([1, 1, 1, 1, 1, 1, 1, 1, 1, 1, 1, 1, 1, 1, 1, 1, 1, 1, 1, 1])"
      ]
     },
     "execution_count": 8,
     "metadata": {},
     "output_type": "execute_result"
    }
   ],
   "source": [
    "b=np.repeat(1,20)\n",
    "b"
   ]
  },
  {
   "cell_type": "code",
   "execution_count": 9,
   "id": "3e501948",
   "metadata": {},
   "outputs": [
    {
     "data": {
      "text/plain": [
       "array([[1, 1, 1, 1, 1, 1, 1, 1, 1, 1],\n",
       "       [1, 1, 1, 1, 1, 1, 1, 1, 1, 1]])"
      ]
     },
     "execution_count": 9,
     "metadata": {},
     "output_type": "execute_result"
    }
   ],
   "source": [
    "b.reshape(2,-1)"
   ]
  },
  {
   "cell_type": "code",
   "execution_count": 10,
   "id": "205862c1",
   "metadata": {},
   "outputs": [
    {
     "data": {
      "text/plain": [
       "array([[0., 0., 0., 0., 0., 0., 0., 0., 0., 0., 0., 0., 0., 0., 0., 0.,\n",
       "        0., 0., 0., 0.],\n",
       "       [1., 1., 1., 1., 1., 1., 1., 1., 1., 1., 1., 1., 1., 1., 1., 1.,\n",
       "        1., 1., 1., 1.]])"
      ]
     },
     "execution_count": 10,
     "metadata": {},
     "output_type": "execute_result"
    }
   ],
   "source": [
    "np.vstack([a,b])  #vertical stack"
   ]
  },
  {
   "cell_type": "code",
   "execution_count": 11,
   "id": "41e0a8b1",
   "metadata": {},
   "outputs": [
    {
     "data": {
      "text/plain": [
       "array([0., 0., 0., 0., 0., 0., 0., 0., 0., 0., 0., 0., 0., 0., 0., 0., 0.,\n",
       "       0., 0., 0., 1., 1., 1., 1., 1., 1., 1., 1., 1., 1., 1., 1., 1., 1.,\n",
       "       1., 1., 1., 1., 1., 1.])"
      ]
     },
     "execution_count": 11,
     "metadata": {},
     "output_type": "execute_result"
    }
   ],
   "source": [
    "np.hstack([a,b])    #horizontal stack"
   ]
  },
  {
   "cell_type": "code",
   "execution_count": 15,
   "id": "ef027aab",
   "metadata": {},
   "outputs": [],
   "source": [
    "c1=np.array([10,20,30,40,50,60])\n",
    "c2=np.array([12,20,33,40,60,55])\n"
   ]
  },
  {
   "cell_type": "code",
   "execution_count": 16,
   "id": "2e1995b2",
   "metadata": {},
   "outputs": [
    {
     "data": {
      "text/plain": [
       "array([20, 40, 60])"
      ]
     },
     "execution_count": 16,
     "metadata": {},
     "output_type": "execute_result"
    }
   ],
   "source": [
    "np.intersect1d(c1,c2)   #2 dizideki ortak elemanı bulan fonksyon"
   ]
  },
  {
   "cell_type": "code",
   "execution_count": 17,
   "id": "c2777903",
   "metadata": {},
   "outputs": [
    {
     "data": {
      "text/plain": [
       "array([10, 30, 50])"
      ]
     },
     "execution_count": 17,
     "metadata": {},
     "output_type": "execute_result"
    }
   ],
   "source": [
    "np.setdiff1d(c1,c2)  # c1in c2den farkı"
   ]
  },
  {
   "cell_type": "code",
   "execution_count": null,
   "id": "dfb1a99c",
   "metadata": {},
   "outputs": [],
   "source": [
    "a=np.array([1,2,3,4,5,6])\n",
    "b=np.array([1,3,5,4,2,1])"
   ]
  },
  {
   "cell_type": "code",
   "execution_count": 20,
   "id": "bed8b38b",
   "metadata": {},
   "outputs": [
    {
     "data": {
      "text/plain": [
       "(array([], dtype=int64), array([], dtype=int64))"
      ]
     },
     "execution_count": 20,
     "metadata": {},
     "output_type": "execute_result"
    }
   ],
   "source": [
    "np.where([a==b])"
   ]
  },
  {
   "cell_type": "code",
   "execution_count": 22,
   "id": "a936a5d5",
   "metadata": {},
   "outputs": [
    {
     "data": {
      "text/plain": [
       "array([ 0, 10, 20, 21, 22, 23, 24, 25, 26, 27, 28, 29, 30, 31, 32, 33, 34,\n",
       "       40, 50])"
      ]
     },
     "execution_count": 22,
     "metadata": {},
     "output_type": "execute_result"
    }
   ],
   "source": [
    "a1=np.arange(0,60)\n",
    "a1[np.where(((a1>20)&(a1<35))|(a1%10==0))]"
   ]
  },
  {
   "cell_type": "code",
   "execution_count": 23,
   "id": "9445d098",
   "metadata": {},
   "outputs": [
    {
     "data": {
      "text/plain": [
       "array([21, 22, 23, 24, 25, 26, 27, 28, 29, 30, 31, 32, 33, 34])"
      ]
     },
     "execution_count": 23,
     "metadata": {},
     "output_type": "execute_result"
    }
   ],
   "source": [
    "a1[np.where(np.logical_and(a1>20,a1<35))]"
   ]
  },
  {
   "cell_type": "code",
   "execution_count": 24,
   "id": "fb523e25",
   "metadata": {},
   "outputs": [],
   "source": [
    "a=np.array([10,20,30,40,50,60,70])"
   ]
  },
  {
   "cell_type": "code",
   "execution_count": 25,
   "id": "9c46d33d",
   "metadata": {},
   "outputs": [
    {
     "data": {
      "text/plain": [
       "array([False,  True, False, False, False, False, False])"
      ]
     },
     "execution_count": 25,
     "metadata": {},
     "output_type": "execute_result"
    }
   ],
   "source": [
    "np.isin(a,[11,20])   # dizi icerisinde eleman arama"
   ]
  },
  {
   "cell_type": "code",
   "execution_count": 26,
   "id": "b0aa21a5",
   "metadata": {},
   "outputs": [
    {
     "data": {
      "text/plain": [
       "array([20])"
      ]
     },
     "execution_count": 26,
     "metadata": {},
     "output_type": "execute_result"
    }
   ],
   "source": [
    "a[np.isin(a,20)]"
   ]
  },
  {
   "cell_type": "code",
   "execution_count": 28,
   "id": "08ae8550",
   "metadata": {},
   "outputs": [
    {
     "data": {
      "text/plain": [
       "array([10, 11, 12, 13, 14, 15, 16, 17, 18, 19, 20, 21, 22, 23, 24, 25, 26,\n",
       "       27, 28, 29])"
      ]
     },
     "execution_count": 28,
     "metadata": {},
     "output_type": "execute_result"
    }
   ],
   "source": [
    "a4=np.arange(10,30)\n",
    "a4"
   ]
  },
  {
   "cell_type": "code",
   "execution_count": 29,
   "id": "6521a447",
   "metadata": {},
   "outputs": [
    {
     "data": {
      "text/plain": [
       "array([29, 28, 27, 26, 25, 24, 23, 22, 21, 20, 19, 18, 17, 16, 15, 14, 13,\n",
       "       12, 11, 10])"
      ]
     },
     "execution_count": 29,
     "metadata": {},
     "output_type": "execute_result"
    }
   ],
   "source": [
    "a4[::-1]"
   ]
  },
  {
   "cell_type": "code",
   "execution_count": 30,
   "id": "d828302e",
   "metadata": {},
   "outputs": [
    {
     "data": {
      "text/plain": [
       "array([29, 28, 27, 26, 25, 24, 23, 22, 21, 20, 19, 18, 17, 16, 15, 14, 13,\n",
       "       12, 11, 10])"
      ]
     },
     "execution_count": 30,
     "metadata": {},
     "output_type": "execute_result"
    }
   ],
   "source": [
    "np.flip(a4)"
   ]
  },
  {
   "cell_type": "code",
   "execution_count": 34,
   "id": "5615a58a",
   "metadata": {},
   "outputs": [
    {
     "data": {
      "text/plain": [
       "array([[ 10,  20,  30],\n",
       "       [ 25,  35,  45],\n",
       "       [345, 121, 543]])"
      ]
     },
     "execution_count": 34,
     "metadata": {},
     "output_type": "execute_result"
    }
   ],
   "source": [
    "a3=np.array([[10,20,30],[25,35,45],[345,121,543]])\n",
    "a3"
   ]
  },
  {
   "cell_type": "code",
   "execution_count": 35,
   "id": "e587acf0",
   "metadata": {},
   "outputs": [
    {
     "data": {
      "text/plain": [
       "array([[345, 121, 543],\n",
       "       [ 25,  35,  45],\n",
       "       [ 10,  20,  30]])"
      ]
     },
     "execution_count": 35,
     "metadata": {},
     "output_type": "execute_result"
    }
   ],
   "source": [
    "a3[::-1]        #satırı tersten al"
   ]
  },
  {
   "cell_type": "code",
   "execution_count": 37,
   "id": "fb836d36",
   "metadata": {},
   "outputs": [
    {
     "data": {
      "text/plain": [
       "array([[ 30,  20,  10],\n",
       "       [ 45,  35,  25],\n",
       "       [543, 121, 345]])"
      ]
     },
     "execution_count": 37,
     "metadata": {},
     "output_type": "execute_result"
    }
   ],
   "source": [
    "a3[:,::-1]    #sutunu terse al"
   ]
  },
  {
   "cell_type": "code",
   "execution_count": 38,
   "id": "c5833c63",
   "metadata": {},
   "outputs": [
    {
     "data": {
      "text/plain": [
       "array([[543, 121, 345],\n",
       "       [ 45,  35,  25],\n",
       "       [ 30,  20,  10]])"
      ]
     },
     "execution_count": 38,
     "metadata": {},
     "output_type": "execute_result"
    }
   ],
   "source": [
    "a3[::-1,::-1]  #hem satır hem sutun degistir"
   ]
  },
  {
   "cell_type": "markdown",
   "id": "eddb28fc",
   "metadata": {},
   "source": [
    "## sıralama"
   ]
  },
  {
   "cell_type": "code",
   "execution_count": 39,
   "id": "1a910b1f",
   "metadata": {},
   "outputs": [
    {
     "data": {
      "text/plain": [
       "array([10, 20, 30, 40, 50, 60, 70])"
      ]
     },
     "execution_count": 39,
     "metadata": {},
     "output_type": "execute_result"
    }
   ],
   "source": [
    "np.sort(a)  #ascending"
   ]
  },
  {
   "cell_type": "code",
   "execution_count": 40,
   "id": "ae6cba59",
   "metadata": {},
   "outputs": [
    {
     "data": {
      "text/plain": [
       "array([[ 10,  20,  30],\n",
       "       [ 25,  35,  45],\n",
       "       [121, 345, 543]])"
      ]
     },
     "execution_count": 40,
     "metadata": {},
     "output_type": "execute_result"
    }
   ],
   "source": [
    "np.sort(a3)"
   ]
  },
  {
   "cell_type": "code",
   "execution_count": 41,
   "id": "33e3daaf",
   "metadata": {},
   "outputs": [
    {
     "data": {
      "text/plain": [
       "array([[ 10,  20,  30],\n",
       "       [ 25,  35,  45],\n",
       "       [121, 345, 543]])"
      ]
     },
     "execution_count": 41,
     "metadata": {},
     "output_type": "execute_result"
    }
   ],
   "source": [
    "np.sort(a3,axis=1)"
   ]
  },
  {
   "cell_type": "code",
   "execution_count": 42,
   "id": "340111f2",
   "metadata": {},
   "outputs": [
    {
     "data": {
      "text/plain": [
       "array([70, 60, 50, 40, 30, 20, 10])"
      ]
     },
     "execution_count": 42,
     "metadata": {},
     "output_type": "execute_result"
    }
   ],
   "source": [
    "c=np.sort(a)   #descending\n",
    "c=c[::-1]\n",
    "c"
   ]
  },
  {
   "cell_type": "code",
   "execution_count": 46,
   "id": "a7cf462c",
   "metadata": {
    "collapsed": true
   },
   "outputs": [
    {
     "ename": "FileNotFoundError",
     "evalue": "AIUP\\data\\sample.txt not found.",
     "output_type": "error",
     "traceback": [
      "\u001b[1;31m---------------------------------------------------------------------------\u001b[0m",
      "\u001b[1;31mFileNotFoundError\u001b[0m                         Traceback (most recent call last)",
      "Input \u001b[1;32mIn [46]\u001b[0m, in \u001b[0;36m<cell line: 1>\u001b[1;34m()\u001b[0m\n\u001b[1;32m----> 1\u001b[0m p4\u001b[38;5;241m=\u001b[39m\u001b[43mnp\u001b[49m\u001b[38;5;241;43m.\u001b[39;49m\u001b[43mloadtxt\u001b[49m\u001b[43m(\u001b[49m\u001b[38;5;124;43m'\u001b[39;49m\u001b[38;5;124;43mAIUP\u001b[39;49m\u001b[38;5;124;43m\\\u001b[39;49m\u001b[38;5;124;43mdata\u001b[39;49m\u001b[38;5;124;43m\\\u001b[39;49m\u001b[38;5;124;43msample.txt\u001b[39;49m\u001b[38;5;124;43m'\u001b[39;49m\u001b[43m,\u001b[49m\u001b[43mdtype\u001b[49m\u001b[38;5;241;43m=\u001b[39;49m\u001b[43mnp\u001b[49m\u001b[38;5;241;43m.\u001b[39;49m\u001b[43minteger\u001b[49m\u001b[43m)\u001b[49m\n",
      "File \u001b[1;32m~\\AppData\\Local\\Programs\\Python\\Python310\\lib\\site-packages\\numpy\\lib\\npyio.py:1042\u001b[0m, in \u001b[0;36mloadtxt\u001b[1;34m(fname, dtype, comments, delimiter, converters, skiprows, usecols, unpack, ndmin, encoding, max_rows, like)\u001b[0m\n\u001b[0;32m   1040\u001b[0m     fname \u001b[38;5;241m=\u001b[39m os_fspath(fname)\n\u001b[0;32m   1041\u001b[0m \u001b[38;5;28;01mif\u001b[39;00m _is_string_like(fname):\n\u001b[1;32m-> 1042\u001b[0m     fh \u001b[38;5;241m=\u001b[39m \u001b[43mnp\u001b[49m\u001b[38;5;241;43m.\u001b[39;49m\u001b[43mlib\u001b[49m\u001b[38;5;241;43m.\u001b[39;49m\u001b[43m_datasource\u001b[49m\u001b[38;5;241;43m.\u001b[39;49m\u001b[43mopen\u001b[49m\u001b[43m(\u001b[49m\u001b[43mfname\u001b[49m\u001b[43m,\u001b[49m\u001b[43m \u001b[49m\u001b[38;5;124;43m'\u001b[39;49m\u001b[38;5;124;43mrt\u001b[39;49m\u001b[38;5;124;43m'\u001b[39;49m\u001b[43m,\u001b[49m\u001b[43m \u001b[49m\u001b[43mencoding\u001b[49m\u001b[38;5;241;43m=\u001b[39;49m\u001b[43mencoding\u001b[49m\u001b[43m)\u001b[49m\n\u001b[0;32m   1043\u001b[0m     fencoding \u001b[38;5;241m=\u001b[39m \u001b[38;5;28mgetattr\u001b[39m(fh, \u001b[38;5;124m'\u001b[39m\u001b[38;5;124mencoding\u001b[39m\u001b[38;5;124m'\u001b[39m, \u001b[38;5;124m'\u001b[39m\u001b[38;5;124mlatin1\u001b[39m\u001b[38;5;124m'\u001b[39m)\n\u001b[0;32m   1044\u001b[0m     line_iter \u001b[38;5;241m=\u001b[39m \u001b[38;5;28miter\u001b[39m(fh)\n",
      "File \u001b[1;32m~\\AppData\\Local\\Programs\\Python\\Python310\\lib\\site-packages\\numpy\\lib\\_datasource.py:193\u001b[0m, in \u001b[0;36mopen\u001b[1;34m(path, mode, destpath, encoding, newline)\u001b[0m\n\u001b[0;32m    156\u001b[0m \u001b[38;5;124;03m\"\"\"\u001b[39;00m\n\u001b[0;32m    157\u001b[0m \u001b[38;5;124;03mOpen `path` with `mode` and return the file object.\u001b[39;00m\n\u001b[0;32m    158\u001b[0m \n\u001b[1;32m   (...)\u001b[0m\n\u001b[0;32m    189\u001b[0m \n\u001b[0;32m    190\u001b[0m \u001b[38;5;124;03m\"\"\"\u001b[39;00m\n\u001b[0;32m    192\u001b[0m ds \u001b[38;5;241m=\u001b[39m DataSource(destpath)\n\u001b[1;32m--> 193\u001b[0m \u001b[38;5;28;01mreturn\u001b[39;00m \u001b[43mds\u001b[49m\u001b[38;5;241;43m.\u001b[39;49m\u001b[43mopen\u001b[49m\u001b[43m(\u001b[49m\u001b[43mpath\u001b[49m\u001b[43m,\u001b[49m\u001b[43m \u001b[49m\u001b[43mmode\u001b[49m\u001b[43m,\u001b[49m\u001b[43m \u001b[49m\u001b[43mencoding\u001b[49m\u001b[38;5;241;43m=\u001b[39;49m\u001b[43mencoding\u001b[49m\u001b[43m,\u001b[49m\u001b[43m \u001b[49m\u001b[43mnewline\u001b[49m\u001b[38;5;241;43m=\u001b[39;49m\u001b[43mnewline\u001b[49m\u001b[43m)\u001b[49m\n",
      "File \u001b[1;32m~\\AppData\\Local\\Programs\\Python\\Python310\\lib\\site-packages\\numpy\\lib\\_datasource.py:532\u001b[0m, in \u001b[0;36mDataSource.open\u001b[1;34m(self, path, mode, encoding, newline)\u001b[0m\n\u001b[0;32m    529\u001b[0m     \u001b[38;5;28;01mreturn\u001b[39;00m _file_openers[ext](found, mode\u001b[38;5;241m=\u001b[39mmode,\n\u001b[0;32m    530\u001b[0m                               encoding\u001b[38;5;241m=\u001b[39mencoding, newline\u001b[38;5;241m=\u001b[39mnewline)\n\u001b[0;32m    531\u001b[0m \u001b[38;5;28;01melse\u001b[39;00m:\n\u001b[1;32m--> 532\u001b[0m     \u001b[38;5;28;01mraise\u001b[39;00m \u001b[38;5;167;01mFileNotFoundError\u001b[39;00m(\u001b[38;5;124mf\u001b[39m\u001b[38;5;124m\"\u001b[39m\u001b[38;5;132;01m{\u001b[39;00mpath\u001b[38;5;132;01m}\u001b[39;00m\u001b[38;5;124m not found.\u001b[39m\u001b[38;5;124m\"\u001b[39m)\n",
      "\u001b[1;31mFileNotFoundError\u001b[0m: AIUP\\data\\sample.txt not found."
     ]
    }
   ],
   "source": [
    "p4=np.loadtxt('AIUP\\data\\sample.txt',dtype=np.integer)\n"
   ]
  },
  {
   "cell_type": "code",
   "execution_count": 48,
   "id": "586bf172",
   "metadata": {},
   "outputs": [
    {
     "data": {
      "text/plain": [
       "array([10, 21, 32, 43, 54, 65, 76, 87, 98])"
      ]
     },
     "execution_count": 48,
     "metadata": {},
     "output_type": "execute_result"
    }
   ],
   "source": [
    "p7=np.arange(10,100,11)\n",
    "p7"
   ]
  },
  {
   "cell_type": "code",
   "execution_count": 49,
   "id": "136a901e",
   "metadata": {},
   "outputs": [],
   "source": [
    "np.savetxt('1805AUIP.csv',p7,delimiter=',')"
   ]
  },
  {
   "cell_type": "code",
   "execution_count": 52,
   "id": "10d3736e",
   "metadata": {},
   "outputs": [
    {
     "data": {
      "text/plain": [
       "array([[  0,   1,   2,   3,   4,   5,   6,   7,   8,   9,  10],\n",
       "       [ 11,  12,  13,  14,  15,  16,  17,  18,  19,  20,  21],\n",
       "       [ 22,  23,  24,  25,  26,  27,  28,  29,  30,  31,  32],\n",
       "       [ 33,  34,  35,  36,  37,  38,  39,  40,  41,  42,  43],\n",
       "       [ 44,  45,  46,  47,  48,  49,  50,  51,  52,  53,  54],\n",
       "       [ 55,  56,  57,  58,  59,  60,  61,  62,  63,  64,  65],\n",
       "       [ 66,  67,  68,  69,  70,  71,  72,  73,  74,  75,  76],\n",
       "       [ 77,  78,  79,  80,  81,  82,  83,  84,  85,  86,  87],\n",
       "       [ 88,  89,  90,  91,  92,  93,  94,  95,  96,  97,  98],\n",
       "       [ 99, 100, 101, 102, 103, 104, 105, 106, 107, 108, 109],\n",
       "       [110, 111, 112, 113, 114, 115, 116, 117, 118, 119, 120]])"
      ]
     },
     "execution_count": 52,
     "metadata": {},
     "output_type": "execute_result"
    }
   ],
   "source": [
    "p8=np.arange(0,121).reshape(11,11)\n",
    "p8"
   ]
  },
  {
   "cell_type": "code",
   "execution_count": 54,
   "id": "cde45d99",
   "metadata": {
    "collapsed": true
   },
   "outputs": [
    {
     "ename": "FileNotFoundError",
     "evalue": "[Errno 2] No such file or directory: 'test1805auıp.npy'",
     "output_type": "error",
     "traceback": [
      "\u001b[1;31m---------------------------------------------------------------------------\u001b[0m",
      "\u001b[1;31mFileNotFoundError\u001b[0m                         Traceback (most recent call last)",
      "Input \u001b[1;32mIn [54]\u001b[0m, in \u001b[0;36m<cell line: 1>\u001b[1;34m()\u001b[0m\n\u001b[1;32m----> 1\u001b[0m p9\u001b[38;5;241m=\u001b[39m\u001b[43mnp\u001b[49m\u001b[38;5;241;43m.\u001b[39;49m\u001b[43mload\u001b[49m\u001b[43m(\u001b[49m\u001b[38;5;124;43m\"\u001b[39;49m\u001b[38;5;124;43mtest1805auıp.npy\u001b[39;49m\u001b[38;5;124;43m\"\u001b[39;49m\u001b[43m)\u001b[49m\n",
      "File \u001b[1;32m~\\AppData\\Local\\Programs\\Python\\Python310\\lib\\site-packages\\numpy\\lib\\npyio.py:407\u001b[0m, in \u001b[0;36mload\u001b[1;34m(file, mmap_mode, allow_pickle, fix_imports, encoding)\u001b[0m\n\u001b[0;32m    405\u001b[0m     own_fid \u001b[38;5;241m=\u001b[39m \u001b[38;5;28;01mFalse\u001b[39;00m\n\u001b[0;32m    406\u001b[0m \u001b[38;5;28;01melse\u001b[39;00m:\n\u001b[1;32m--> 407\u001b[0m     fid \u001b[38;5;241m=\u001b[39m stack\u001b[38;5;241m.\u001b[39menter_context(\u001b[38;5;28;43mopen\u001b[39;49m\u001b[43m(\u001b[49m\u001b[43mos_fspath\u001b[49m\u001b[43m(\u001b[49m\u001b[43mfile\u001b[49m\u001b[43m)\u001b[49m\u001b[43m,\u001b[49m\u001b[43m \u001b[49m\u001b[38;5;124;43m\"\u001b[39;49m\u001b[38;5;124;43mrb\u001b[39;49m\u001b[38;5;124;43m\"\u001b[39;49m\u001b[43m)\u001b[49m)\n\u001b[0;32m    408\u001b[0m     own_fid \u001b[38;5;241m=\u001b[39m \u001b[38;5;28;01mTrue\u001b[39;00m\n\u001b[0;32m    410\u001b[0m \u001b[38;5;66;03m# Code to distinguish from NumPy binary files and pickles.\u001b[39;00m\n",
      "\u001b[1;31mFileNotFoundError\u001b[0m: [Errno 2] No such file or directory: 'test1805auıp.npy'"
     ]
    }
   ],
   "source": [
    "p9=np.load(\"test1805auıp.npy\")"
   ]
  },
  {
   "cell_type": "markdown",
   "id": "1faa1338",
   "metadata": {},
   "source": [
    "## vektör islemleri\n"
   ]
  },
  {
   "cell_type": "code",
   "execution_count": 58,
   "id": "c7fdfa7e",
   "metadata": {},
   "outputs": [
    {
     "name": "stdout",
     "output_type": "stream",
     "text": [
      "V3= [4 6]\n"
     ]
    }
   ],
   "source": [
    "v1=np.array([1,2])\n",
    "v2=np.array([3,4])\n",
    "v3=v1+v2\n",
    "#v3=np.add(v1,v2)\n",
    "print('V3=',v3)"
   ]
  },
  {
   "cell_type": "code",
   "execution_count": 59,
   "id": "6189767a",
   "metadata": {},
   "outputs": [
    {
     "data": {
      "text/plain": [
       "array([20, 30, 56])"
      ]
     },
     "execution_count": 59,
     "metadata": {},
     "output_type": "execute_result"
    }
   ],
   "source": [
    "a1=[5,6,7]\n",
    "a2=[4,5,8]\n",
    "np.multiply(a1,a2)"
   ]
  },
  {
   "cell_type": "code",
   "execution_count": 61,
   "id": "70715a04",
   "metadata": {},
   "outputs": [
    {
     "data": {
      "text/plain": [
       "32"
      ]
     },
     "execution_count": 61,
     "metadata": {},
     "output_type": "execute_result"
    }
   ],
   "source": [
    "#DOTPRODUCT\n",
    "\n",
    "a1=np.array([1,2,3])\n",
    "a2=np.array([4,5,6])\n",
    "dotp=a1@a2\n",
    "dotp"
   ]
  },
  {
   "cell_type": "code",
   "execution_count": 62,
   "id": "0c9b06b4",
   "metadata": {},
   "outputs": [
    {
     "data": {
      "text/plain": [
       "32"
      ]
     },
     "execution_count": 62,
     "metadata": {},
     "output_type": "execute_result"
    }
   ],
   "source": [
    "a1=np.array([1,2,3])\n",
    "a2=np.array([4,5,6])\n",
    "dotp=np.dot(a1,a2)\n",
    "dotp"
   ]
  },
  {
   "cell_type": "code",
   "execution_count": 64,
   "id": "c019e9fa",
   "metadata": {},
   "outputs": [
    {
     "data": {
      "text/plain": [
       "9.539392014169456"
      ]
     },
     "execution_count": 64,
     "metadata": {},
     "output_type": "execute_result"
    }
   ],
   "source": [
    "v3=np.array([1,2,3,4,5,6])    #uzunluk\n",
    "length=np.sqrt(np.dot(v3,v3))\n",
    "length"
   ]
  },
  {
   "cell_type": "code",
   "execution_count": 67,
   "id": "be890d1a",
   "metadata": {},
   "outputs": [
    {
     "data": {
      "text/plain": [
       "(3.605551275463989, array([0.5547002 , 0.83205029]))"
      ]
     },
     "execution_count": 67,
     "metadata": {},
     "output_type": "execute_result"
    }
   ],
   "source": [
    "v1=[2,3]      #normalizasyon\n",
    "length_v1=np.sqrt(np.dot(v1,v1))\n",
    "normv1=v1/length_v1\n",
    "length_v1,normv1"
   ]
  },
  {
   "cell_type": "code",
   "execution_count": 68,
   "id": "3da78cff",
   "metadata": {},
   "outputs": [
    {
     "data": {
      "text/plain": [
       "array([0.5547002 , 0.83205029])"
      ]
     },
     "execution_count": 68,
     "metadata": {},
     "output_type": "execute_result"
    }
   ],
   "source": [
    "normv1=v1/np.linalg.norm(v1)\n",
    "normv1"
   ]
  },
  {
   "cell_type": "code",
   "execution_count": 69,
   "id": "7442f95f",
   "metadata": {},
   "outputs": [
    {
     "data": {
      "text/plain": [
       "array([[0., 0., 0., 0.],\n",
       "       [0., 0., 0., 0.],\n",
       "       [0., 0., 0., 0.],\n",
       "       [0., 0., 0., 0.]])"
      ]
     },
     "execution_count": 69,
     "metadata": {},
     "output_type": "execute_result"
    }
   ],
   "source": [
    "np.zeros((4,4))"
   ]
  },
  {
   "cell_type": "code",
   "execution_count": 72,
   "id": "e85a1446",
   "metadata": {},
   "outputs": [
    {
     "data": {
      "text/plain": [
       "array([[279, 467, 480,  17, 350, 396, 323,  82, 141, 341],\n",
       "       [464, 405, 398, 285, 384, 149,  84, 265, 167, 102],\n",
       "       [408, 151,  31, 336, 359,  62,  17, 472, 384, 124],\n",
       "       [  5,  26,  53, 399, 305,  91, 265, 472, 351, 181],\n",
       "       [231, 443, 192,  60, 356,  71, 238, 448, 214, 395],\n",
       "       [128, 151,  42, 132, 443, 130, 483, 221, 110, 267],\n",
       "       [296,  92, 122,  46,  86,  80, 482, 318, 357, 234],\n",
       "       [117,  75,  65, 475, 236, 339, 442,  18, 420, 316],\n",
       "       [420, 323, 408, 264, 186, 249, 258, 480, 101, 387],\n",
       "       [354, 209, 484,  68, 470, 408, 162, 406, 411, 321]])"
      ]
     },
     "execution_count": 72,
     "metadata": {},
     "output_type": "execute_result"
    }
   ],
   "source": [
    "np.random.randint(0,500,(10,10))"
   ]
  },
  {
   "cell_type": "code",
   "execution_count": 76,
   "id": "0a9d6e98",
   "metadata": {},
   "outputs": [
    {
     "data": {
      "text/plain": [
       "array([[1., 0., 0., 0., 0., 0., 0., 0., 0.],\n",
       "       [0., 1., 0., 0., 0., 0., 0., 0., 0.],\n",
       "       [0., 0., 1., 0., 0., 0., 0., 0., 0.],\n",
       "       [0., 0., 0., 1., 0., 0., 0., 0., 0.],\n",
       "       [0., 0., 0., 0., 1., 0., 0., 0., 0.],\n",
       "       [0., 0., 0., 0., 0., 1., 0., 0., 0.],\n",
       "       [0., 0., 0., 0., 0., 0., 1., 0., 0.],\n",
       "       [0., 0., 0., 0., 0., 0., 0., 1., 0.],\n",
       "       [0., 0., 0., 0., 0., 0., 0., 0., 1.]])"
      ]
     },
     "execution_count": 76,
     "metadata": {},
     "output_type": "execute_result"
    }
   ],
   "source": [
    "I=np.eye(9)\n",
    "I"
   ]
  },
  {
   "cell_type": "code",
   "execution_count": 78,
   "id": "f7db241e",
   "metadata": {},
   "outputs": [
    {
     "data": {
      "text/plain": [
       "array([[1, 0, 0, 0, 0, 0],\n",
       "       [0, 2, 0, 0, 0, 0],\n",
       "       [0, 0, 3, 0, 0, 0],\n",
       "       [0, 0, 0, 4, 0, 0],\n",
       "       [0, 0, 0, 0, 5, 0],\n",
       "       [0, 0, 0, 0, 0, 6]])"
      ]
     },
     "execution_count": 78,
     "metadata": {},
     "output_type": "execute_result"
    }
   ],
   "source": [
    "D=np.diag([1,2,3,4,5,6])\n",
    "D"
   ]
  },
  {
   "cell_type": "code",
   "execution_count": 81,
   "id": "f10a3bf7",
   "metadata": {},
   "outputs": [
    {
     "data": {
      "text/plain": [
       "array([[-0.94094592,  1.81436305,  0.82179266, -0.2707652 ,  0.86491803],\n",
       "       [ 1.08449649, -0.88779173, -0.19635256, -1.09927665,  1.4029318 ],\n",
       "       [ 0.45038129,  1.02632942,  0.29907958,  1.3743351 ,  1.02021822],\n",
       "       [-0.4013311 ,  0.27961026, -0.79812759,  0.05959883, -0.21054869],\n",
       "       [-1.24260591,  0.08095341,  1.10619061,  2.08526185, -1.96493071]])"
      ]
     },
     "execution_count": 81,
     "metadata": {},
     "output_type": "execute_result"
    }
   ],
   "source": [
    "M=np.random.randn(5,5)\n",
    "M"
   ]
  },
  {
   "cell_type": "code",
   "execution_count": 83,
   "id": "c555e27a",
   "metadata": {},
   "outputs": [
    {
     "data": {
      "text/plain": [
       "array([[-0.94094592,  1.81436305,  0.82179266, -0.2707652 ,  0.86491803],\n",
       "       [ 0.        , -0.88779173, -0.19635256, -1.09927665,  1.4029318 ],\n",
       "       [ 0.        ,  0.        ,  0.29907958,  1.3743351 ,  1.02021822],\n",
       "       [ 0.        ,  0.        ,  0.        ,  0.05959883, -0.21054869],\n",
       "       [ 0.        ,  0.        ,  0.        ,  0.        , -1.96493071]])"
      ]
     },
     "execution_count": 83,
     "metadata": {},
     "output_type": "execute_result"
    }
   ],
   "source": [
    "U=np.triu(M)\n",
    "U"
   ]
  },
  {
   "cell_type": "code",
   "execution_count": 87,
   "id": "464f960c",
   "metadata": {},
   "outputs": [
    {
     "data": {
      "text/plain": [
       "array([[-0.94094592,  0.        ,  0.        ,  0.        ,  0.        ],\n",
       "       [ 1.08449649, -0.88779173,  0.        ,  0.        ,  0.        ],\n",
       "       [ 0.45038129,  1.02632942,  0.29907958,  0.        ,  0.        ],\n",
       "       [-0.4013311 ,  0.27961026, -0.79812759,  0.05959883,  0.        ],\n",
       "       [-1.24260591,  0.08095341,  1.10619061,  2.08526185, -1.96493071]])"
      ]
     },
     "execution_count": 87,
     "metadata": {},
     "output_type": "execute_result"
    }
   ],
   "source": [
    "L=np.tril(M)\n",
    "L"
   ]
  },
  {
   "cell_type": "code",
   "execution_count": 88,
   "id": "306f9a22",
   "metadata": {},
   "outputs": [
    {
     "data": {
      "text/plain": [
       "array([[8, 8, 8, 8, 8],\n",
       "       [8, 8, 8, 8, 8],\n",
       "       [8, 8, 8, 8, 8],\n",
       "       [8, 8, 8, 8, 8],\n",
       "       [8, 8, 8, 8, 8]])"
      ]
     },
     "execution_count": 88,
     "metadata": {},
     "output_type": "execute_result"
    }
   ],
   "source": [
    "np.full((5,5),8)"
   ]
  },
  {
   "cell_type": "code",
   "execution_count": 89,
   "id": "82672af4",
   "metadata": {},
   "outputs": [
    {
     "data": {
      "text/plain": [
       "array([[13.28197013, 18.14947949, 15.24417946, 18.35285847, 11.93786659],\n",
       "       [11.51931441, 15.19256353, 13.06615959, 10.56805053, 11.42050862],\n",
       "       [10.2314867 , 13.11192259, 13.5292884 , 15.19459046, 18.02284704],\n",
       "       [11.52553863, 17.79933833, 19.43594596, 10.73050246, 10.84199259],\n",
       "       [15.00630807, 16.06016996, 15.12143755, 16.26711769, 10.96039019]])"
      ]
     },
     "execution_count": 89,
     "metadata": {},
     "output_type": "execute_result"
    }
   ],
   "source": [
    "np.random.uniform(10,20,size=(5,5))"
   ]
  },
  {
   "cell_type": "code",
   "execution_count": 91,
   "id": "212e0378",
   "metadata": {},
   "outputs": [
    {
     "data": {
      "text/plain": [
       "array([[ 1,  2,  3,  4],\n",
       "       [ 5,  6,  7,  8],\n",
       "       [ 9, 10, 11, 12],\n",
       "       [13, 14, 15, 16]])"
      ]
     },
     "execution_count": 91,
     "metadata": {},
     "output_type": "execute_result"
    }
   ],
   "source": [
    "A=np.arange(1,17).reshape(4,4)\n",
    "A"
   ]
  },
  {
   "cell_type": "code",
   "execution_count": 92,
   "id": "26c25442",
   "metadata": {},
   "outputs": [
    {
     "data": {
      "text/plain": [
       "array([ 1,  2,  3,  4,  5,  6,  7,  8,  9, 10, 11, 12, 13, 14, 15, 16])"
      ]
     },
     "execution_count": 92,
     "metadata": {},
     "output_type": "execute_result"
    }
   ],
   "source": [
    "A.flatten()"
   ]
  },
  {
   "cell_type": "code",
   "execution_count": 93,
   "id": "448a9955",
   "metadata": {},
   "outputs": [
    {
     "name": "stdout",
     "output_type": "stream",
     "text": [
      "[[ 2  3  4]\n",
      " [ 6 -1  8]\n",
      " [10 11  3]]\n"
     ]
    }
   ],
   "source": [
    "M=np.array([[1,2,3],[4,-3,6],[7,8,0]])\n",
    "N=np.array([[1,1,1],[2,2,2],[3,3,3]])\n",
    "C=M+N\n",
    "print(C)\n"
   ]
  },
  {
   "cell_type": "code",
   "execution_count": 100,
   "id": "1f7eed8c",
   "metadata": {},
   "outputs": [
    {
     "data": {
      "text/plain": [
       "array([[ 0,  1,  2],\n",
       "       [ 2, -5,  4],\n",
       "       [ 4,  5, -3]])"
      ]
     },
     "execution_count": 100,
     "metadata": {},
     "output_type": "execute_result"
    }
   ],
   "source": [
    "C=M-N\n",
    "C"
   ]
  },
  {
   "cell_type": "code",
   "execution_count": 102,
   "id": "8bb5d31e",
   "metadata": {},
   "outputs": [
    {
     "data": {
      "text/plain": [
       "array([[ 0.,  1.,  2.],\n",
       "       [ 2., -5.,  4.],\n",
       "       [ 4.,  5., -3.]])"
      ]
     },
     "execution_count": 102,
     "metadata": {},
     "output_type": "execute_result"
    }
   ],
   "source": [
    "C=np.subtract(M,N,dtype=np.float64)\n",
    "C"
   ]
  },
  {
   "cell_type": "code",
   "execution_count": 105,
   "id": "7d3a2813",
   "metadata": {},
   "outputs": [
    {
     "data": {
      "text/plain": [
       "array([[ 1,  2,  3],\n",
       "       [ 4, -3,  6],\n",
       "       [ 7,  8,  0]])"
      ]
     },
     "execution_count": 105,
     "metadata": {},
     "output_type": "execute_result"
    }
   ],
   "source": [
    "M=np.array([[1,2,3],[4,-3,6],[7,8,0]])\n",
    "M"
   ]
  },
  {
   "cell_type": "code",
   "execution_count": 106,
   "id": "80895638",
   "metadata": {},
   "outputs": [
    {
     "data": {
      "text/plain": [
       "array([[ 10,  20,  30],\n",
       "       [ 40, -30,  60],\n",
       "       [ 70,  80,   0]])"
      ]
     },
     "execution_count": 106,
     "metadata": {},
     "output_type": "execute_result"
    }
   ],
   "source": [
    "C=10\n",
    "M*10\n"
   ]
  },
  {
   "cell_type": "code",
   "execution_count": 107,
   "id": "5ab7d473",
   "metadata": {},
   "outputs": [
    {
     "name": "stdout",
     "output_type": "stream",
     "text": [
      "[[ 1  4  7]\n",
      " [ 2 -3  8]\n",
      " [ 3  6  0]]\n"
     ]
    }
   ],
   "source": [
    "##transpoze\n",
    "print(np.transpose(M))"
   ]
  },
  {
   "cell_type": "code",
   "execution_count": 108,
   "id": "00022ce4",
   "metadata": {},
   "outputs": [
    {
     "name": "stdout",
     "output_type": "stream",
     "text": [
      "[[ 1  4  7]\n",
      " [ 2 -3  8]\n",
      " [ 3  6  0]]\n"
     ]
    }
   ],
   "source": [
    "#or\n",
    "\n",
    "print(M.T)"
   ]
  },
  {
   "cell_type": "code",
   "execution_count": 109,
   "id": "acd075cb",
   "metadata": {},
   "outputs": [
    {
     "name": "stdout",
     "output_type": "stream",
     "text": [
      "195.0\n"
     ]
    }
   ],
   "source": [
    "#determinant\n",
    "M=np.array([[1,2,3],[4,-3,6],[7,8,0]])\n",
    "print(np.linalg.det(M))\n"
   ]
  },
  {
   "cell_type": "code",
   "execution_count": 110,
   "id": "b3ea89e4",
   "metadata": {},
   "outputs": [
    {
     "name": "stdout",
     "output_type": "stream",
     "text": [
      "[[-0.24615385  0.12307692  0.10769231]\n",
      " [ 0.21538462 -0.10769231  0.03076923]\n",
      " [ 0.27179487  0.03076923 -0.05641026]]\n"
     ]
    }
   ],
   "source": [
    "print(np.linalg.inv(M))"
   ]
  },
  {
   "cell_type": "code",
   "execution_count": 112,
   "id": "acc586aa",
   "metadata": {},
   "outputs": [
    {
     "data": {
      "text/plain": [
       "array([[ 1.        ,  2.        ,  3.        ],\n",
       "       [ 2.        , -1.5       ,  3.        ],\n",
       "       [ 2.33333333,  2.66666667,  0.        ]])"
      ]
     },
     "execution_count": 112,
     "metadata": {},
     "output_type": "execute_result"
    }
   ],
   "source": [
    "N=np.array([[1,1,1],[2,2,2],[3,3,3]])\n",
    "M/N"
   ]
  },
  {
   "cell_type": "code",
   "execution_count": 113,
   "id": "023ee525",
   "metadata": {},
   "outputs": [
    {
     "data": {
      "text/plain": [
       "array([[ 1.        ,  2.        ,  3.        ],\n",
       "       [ 2.        , -1.5       ,  3.        ],\n",
       "       [ 2.33333333,  2.66666667,  0.        ]])"
      ]
     },
     "execution_count": 113,
     "metadata": {},
     "output_type": "execute_result"
    }
   ],
   "source": [
    "np.divide(M,N)"
   ]
  },
  {
   "cell_type": "code",
   "execution_count": 114,
   "id": "4ec5e479",
   "metadata": {},
   "outputs": [
    {
     "data": {
      "text/plain": [
       "array([[1, 2],\n",
       "       [4, 5]])"
      ]
     },
     "execution_count": 114,
     "metadata": {},
     "output_type": "execute_result"
    }
   ],
   "source": [
    "M1=np.array([[1,2],[4,5]])\n",
    "M1\n"
   ]
  },
  {
   "cell_type": "code",
   "execution_count": 116,
   "id": "bc5ced7e",
   "metadata": {},
   "outputs": [
    {
     "data": {
      "text/plain": [
       "array([[ 57,  78],\n",
       "       [156, 213]])"
      ]
     },
     "execution_count": 116,
     "metadata": {},
     "output_type": "execute_result"
    }
   ],
   "source": [
    "M1@M1@M1\n"
   ]
  },
  {
   "cell_type": "markdown",
   "id": "49295faf",
   "metadata": {},
   "source": [
    "## TENSOR"
   ]
  },
  {
   "cell_type": "code",
   "execution_count": 118,
   "id": "8a0fc635",
   "metadata": {},
   "outputs": [
    {
     "data": {
      "text/plain": [
       "array([[[1, 2, 3],\n",
       "        [4, 5, 6],\n",
       "        [7, 8, 9]],\n",
       "\n",
       "       [[1, 1, 1],\n",
       "        [1, 1, 1],\n",
       "        [1, 1, 1]],\n",
       "\n",
       "       [[2, 2, 2],\n",
       "        [2, 2, 2],\n",
       "        [2, 2, 2]]])"
      ]
     },
     "execution_count": 118,
     "metadata": {},
     "output_type": "execute_result"
    }
   ],
   "source": [
    "T1=np.array([\n",
    "    [[1,2,3],[4,5,6],[7,8,9]],\n",
    "    [[1,1,1],[1,1,1],[1,1,1]],\n",
    "    [[2,2,2],[2,2,2],[2,2,2]]\n",
    "])\n",
    "\n",
    "T1"
   ]
  },
  {
   "cell_type": "code",
   "execution_count": 119,
   "id": "d10701b3",
   "metadata": {},
   "outputs": [
    {
     "data": {
      "text/plain": [
       "array([[[ 1,  2,  3],\n",
       "        [ 4,  5,  6],\n",
       "        [ 7,  8,  9]],\n",
       "\n",
       "       [[10, 10, 10],\n",
       "        [10, 10, 10],\n",
       "        [10, 10, 10]],\n",
       "\n",
       "       [[20, 20, 20],\n",
       "        [20, 20, 20],\n",
       "        [20, 20, 20]]])"
      ]
     },
     "execution_count": 119,
     "metadata": {},
     "output_type": "execute_result"
    }
   ],
   "source": [
    "T2=np.array([\n",
    "    [[1,2,3],[4,5,6],[7,8,9]],\n",
    "    [[10,10,10],[10,10,10],[10,10,10]],\n",
    "    [[20,20,20],[20,20,20],[20,20,20]]\n",
    "])\n",
    "T2"
   ]
  },
  {
   "cell_type": "code",
   "execution_count": 121,
   "id": "050b9f14",
   "metadata": {},
   "outputs": [
    {
     "data": {
      "text/plain": [
       "array([[[ 2,  4,  6],\n",
       "        [ 8, 10, 12],\n",
       "        [14, 16, 18]],\n",
       "\n",
       "       [[11, 11, 11],\n",
       "        [11, 11, 11],\n",
       "        [11, 11, 11]],\n",
       "\n",
       "       [[22, 22, 22],\n",
       "        [22, 22, 22],\n",
       "        [22, 22, 22]]])"
      ]
     },
     "execution_count": 121,
     "metadata": {},
     "output_type": "execute_result"
    }
   ],
   "source": [
    "A=T1+T2\n",
    "A"
   ]
  },
  {
   "cell_type": "code",
   "execution_count": null,
   "id": "6e2e19a6",
   "metadata": {},
   "outputs": [],
   "source": []
  }
 ],
 "metadata": {
  "kernelspec": {
   "display_name": "Python 3 (ipykernel)",
   "language": "python",
   "name": "python3"
  },
  "language_info": {
   "codemirror_mode": {
    "name": "ipython",
    "version": 3
   },
   "file_extension": ".py",
   "mimetype": "text/x-python",
   "name": "python",
   "nbconvert_exporter": "python",
   "pygments_lexer": "ipython3",
   "version": "3.10.4"
  }
 },
 "nbformat": 4,
 "nbformat_minor": 5
}
