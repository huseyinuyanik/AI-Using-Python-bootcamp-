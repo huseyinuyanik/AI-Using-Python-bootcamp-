{
 "cells": [
  {
   "cell_type": "code",
   "execution_count": 1,
   "id": "3ef6a2d5",
   "metadata": {},
   "outputs": [],
   "source": [
    "import pandas as pd\n",
    "import numpy as np"
   ]
  },
  {
   "cell_type": "code",
   "execution_count": 2,
   "id": "79bc048f",
   "metadata": {},
   "outputs": [
    {
     "name": "stdout",
     "output_type": "stream",
     "text": [
      "Requirement already satisfied: pandas in c:\\users\\hsyn_\\appdata\\local\\programs\\python\\python310\\lib\\site-packages (1.4.2)\n",
      "Requirement already satisfied: numpy>=1.21.0 in c:\\users\\hsyn_\\appdata\\local\\programs\\python\\python310\\lib\\site-packages (from pandas) (1.22.3)\n",
      "Requirement already satisfied: python-dateutil>=2.8.1 in c:\\users\\hsyn_\\appdata\\local\\programs\\python\\python310\\lib\\site-packages (from pandas) (2.8.2)\n",
      "Requirement already satisfied: pytz>=2020.1 in c:\\users\\hsyn_\\appdata\\local\\programs\\python\\python310\\lib\\site-packages (from pandas) (2022.1)\n",
      "Requirement already satisfied: six>=1.5 in c:\\users\\hsyn_\\appdata\\local\\programs\\python\\python310\\lib\\site-packages (from python-dateutil>=2.8.1->pandas) (1.16.0)\n",
      "Note: you may need to restart the kernel to use updated packages.\n"
     ]
    },
    {
     "name": "stderr",
     "output_type": "stream",
     "text": [
      "WARNING: You are using pip version 22.0.4; however, version 22.1 is available.\n",
      "You should consider upgrading via the 'C:\\Users\\hsyn_\\AppData\\Local\\Programs\\Python\\Python310\\python.exe -m pip install --upgrade pip' command.\n"
     ]
    }
   ],
   "source": [
    "pip install pandas"
   ]
  },
  {
   "cell_type": "code",
   "execution_count": 3,
   "id": "421415cd",
   "metadata": {},
   "outputs": [],
   "source": [
    "import pandas"
   ]
  },
  {
   "cell_type": "code",
   "execution_count": 4,
   "id": "0177ce00",
   "metadata": {},
   "outputs": [
    {
     "name": "stdout",
     "output_type": "stream",
     "text": [
      "Requirement already satisfied: numpy in c:\\users\\hsyn_\\appdata\\local\\programs\\python\\python310\\lib\\site-packages (1.22.3)\n",
      "Note: you may need to restart the kernel to use updated packages.\n"
     ]
    },
    {
     "name": "stderr",
     "output_type": "stream",
     "text": [
      "WARNING: You are using pip version 22.0.4; however, version 22.1 is available.\n",
      "You should consider upgrading via the 'C:\\Users\\hsyn_\\AppData\\Local\\Programs\\Python\\Python310\\python.exe -m pip install --upgrade pip' command.\n"
     ]
    }
   ],
   "source": [
    "pip install numpy"
   ]
  },
  {
   "cell_type": "code",
   "execution_count": 5,
   "id": "95b2b69b",
   "metadata": {},
   "outputs": [],
   "source": [
    "import numpy"
   ]
  },
  {
   "cell_type": "code",
   "execution_count": 6,
   "id": "c7791a9f",
   "metadata": {},
   "outputs": [
    {
     "name": "stdout",
     "output_type": "stream",
     "text": [
      "Requirement already satisfied: jupyterthemes in c:\\users\\hsyn_\\appdata\\local\\programs\\python\\python310\\lib\\site-packages (0.20.0)\n",
      "Requirement already satisfied: jupyter-core in c:\\users\\hsyn_\\appdata\\local\\programs\\python\\python310\\lib\\site-packages (from jupyterthemes) (4.10.0)\n",
      "Requirement already satisfied: matplotlib>=1.4.3 in c:\\users\\hsyn_\\appdata\\local\\programs\\python\\python310\\lib\\site-packages (from jupyterthemes) (3.5.2)\n",
      "Requirement already satisfied: lesscpy>=0.11.2 in c:\\users\\hsyn_\\appdata\\local\\programs\\python\\python310\\lib\\site-packages (from jupyterthemes) (0.15.0)\n",
      "Requirement already satisfied: ipython>=5.4.1 in c:\\users\\hsyn_\\appdata\\local\\programs\\python\\python310\\lib\\site-packages (from jupyterthemes) (8.3.0)\n",
      "Requirement already satisfied: notebook>=5.6.0 in c:\\users\\hsyn_\\appdata\\local\\programs\\python\\python310\\lib\\site-packages (from jupyterthemes) (6.4.11)\n",
      "Requirement already satisfied: decorator in c:\\users\\hsyn_\\appdata\\local\\programs\\python\\python310\\lib\\site-packages (from ipython>=5.4.1->jupyterthemes) (5.1.1)\n",
      "Requirement already satisfied: setuptools>=18.5 in c:\\users\\hsyn_\\appdata\\local\\programs\\python\\python310\\lib\\site-packages (from ipython>=5.4.1->jupyterthemes) (58.1.0)\n",
      "Requirement already satisfied: matplotlib-inline in c:\\users\\hsyn_\\appdata\\local\\programs\\python\\python310\\lib\\site-packages (from ipython>=5.4.1->jupyterthemes) (0.1.3)\n",
      "Requirement already satisfied: jedi>=0.16 in c:\\users\\hsyn_\\appdata\\local\\programs\\python\\python310\\lib\\site-packages (from ipython>=5.4.1->jupyterthemes) (0.18.1)\n",
      "Requirement already satisfied: pickleshare in c:\\users\\hsyn_\\appdata\\local\\programs\\python\\python310\\lib\\site-packages (from ipython>=5.4.1->jupyterthemes) (0.7.5)\n",
      "Requirement already satisfied: prompt-toolkit!=3.0.0,!=3.0.1,<3.1.0,>=2.0.0 in c:\\users\\hsyn_\\appdata\\local\\programs\\python\\python310\\lib\\site-packages (from ipython>=5.4.1->jupyterthemes) (3.0.29)\n",
      "Requirement already satisfied: traitlets>=5 in c:\\users\\hsyn_\\appdata\\local\\programs\\python\\python310\\lib\\site-packages (from ipython>=5.4.1->jupyterthemes) (5.2.0)\n",
      "Requirement already satisfied: colorama in c:\\users\\hsyn_\\appdata\\local\\programs\\python\\python310\\lib\\site-packages (from ipython>=5.4.1->jupyterthemes) (0.4.4)\n",
      "Requirement already satisfied: backcall in c:\\users\\hsyn_\\appdata\\local\\programs\\python\\python310\\lib\\site-packages (from ipython>=5.4.1->jupyterthemes) (0.2.0)\n",
      "Requirement already satisfied: pygments>=2.4.0 in c:\\users\\hsyn_\\appdata\\local\\programs\\python\\python310\\lib\\site-packages (from ipython>=5.4.1->jupyterthemes) (2.12.0)\n",
      "Requirement already satisfied: stack-data in c:\\users\\hsyn_\\appdata\\local\\programs\\python\\python310\\lib\\site-packages (from ipython>=5.4.1->jupyterthemes) (0.2.0)\n",
      "Requirement already satisfied: six in c:\\users\\hsyn_\\appdata\\local\\programs\\python\\python310\\lib\\site-packages (from lesscpy>=0.11.2->jupyterthemes) (1.16.0)\n",
      "Requirement already satisfied: ply in c:\\users\\hsyn_\\appdata\\local\\programs\\python\\python310\\lib\\site-packages (from lesscpy>=0.11.2->jupyterthemes) (3.11)\n",
      "Requirement already satisfied: numpy>=1.17 in c:\\users\\hsyn_\\appdata\\local\\programs\\python\\python310\\lib\\site-packages (from matplotlib>=1.4.3->jupyterthemes) (1.22.3)\n",
      "Requirement already satisfied: cycler>=0.10 in c:\\users\\hsyn_\\appdata\\local\\programs\\python\\python310\\lib\\site-packages (from matplotlib>=1.4.3->jupyterthemes) (0.11.0)\n",
      "Requirement already satisfied: kiwisolver>=1.0.1 in c:\\users\\hsyn_\\appdata\\local\\programs\\python\\python310\\lib\\site-packages (from matplotlib>=1.4.3->jupyterthemes) (1.4.2)\n",
      "Requirement already satisfied: pyparsing>=2.2.1 in c:\\users\\hsyn_\\appdata\\local\\programs\\python\\python310\\lib\\site-packages (from matplotlib>=1.4.3->jupyterthemes) (3.0.9)\n",
      "Requirement already satisfied: python-dateutil>=2.7 in c:\\users\\hsyn_\\appdata\\local\\programs\\python\\python310\\lib\\site-packages (from matplotlib>=1.4.3->jupyterthemes) (2.8.2)\n",
      "Requirement already satisfied: fonttools>=4.22.0 in c:\\users\\hsyn_\\appdata\\local\\programs\\python\\python310\\lib\\site-packages (from matplotlib>=1.4.3->jupyterthemes) (4.33.3)\n",
      "Requirement already satisfied: pillow>=6.2.0 in c:\\users\\hsyn_\\appdata\\local\\programs\\python\\python310\\lib\\site-packages (from matplotlib>=1.4.3->jupyterthemes) (9.1.0)\n",
      "Requirement already satisfied: packaging>=20.0 in c:\\users\\hsyn_\\appdata\\local\\programs\\python\\python310\\lib\\site-packages (from matplotlib>=1.4.3->jupyterthemes) (21.3)\n",
      "Requirement already satisfied: pyzmq>=17 in c:\\users\\hsyn_\\appdata\\local\\programs\\python\\python310\\lib\\site-packages (from notebook>=5.6.0->jupyterthemes) (22.3.0)\n",
      "Requirement already satisfied: tornado>=6.1 in c:\\users\\hsyn_\\appdata\\local\\programs\\python\\python310\\lib\\site-packages (from notebook>=5.6.0->jupyterthemes) (6.1)\n",
      "Requirement already satisfied: ipykernel in c:\\users\\hsyn_\\appdata\\local\\programs\\python\\python310\\lib\\site-packages (from notebook>=5.6.0->jupyterthemes) (6.13.0)\n",
      "Requirement already satisfied: jupyter-client>=5.3.4 in c:\\users\\hsyn_\\appdata\\local\\programs\\python\\python310\\lib\\site-packages (from notebook>=5.6.0->jupyterthemes) (7.3.1)\n",
      "Requirement already satisfied: argon2-cffi in c:\\users\\hsyn_\\appdata\\local\\programs\\python\\python310\\lib\\site-packages (from notebook>=5.6.0->jupyterthemes) (21.3.0)\n",
      "Requirement already satisfied: nbconvert>=5 in c:\\users\\hsyn_\\appdata\\local\\programs\\python\\python310\\lib\\site-packages (from notebook>=5.6.0->jupyterthemes) (6.5.0)\n",
      "Requirement already satisfied: nest-asyncio>=1.5 in c:\\users\\hsyn_\\appdata\\local\\programs\\python\\python310\\lib\\site-packages (from notebook>=5.6.0->jupyterthemes) (1.5.5)\n",
      "Requirement already satisfied: nbformat in c:\\users\\hsyn_\\appdata\\local\\programs\\python\\python310\\lib\\site-packages (from notebook>=5.6.0->jupyterthemes) (5.4.0)\n",
      "Requirement already satisfied: terminado>=0.8.3 in c:\\users\\hsyn_\\appdata\\local\\programs\\python\\python310\\lib\\site-packages (from notebook>=5.6.0->jupyterthemes) (0.13.3)\n",
      "Requirement already satisfied: Send2Trash>=1.8.0 in c:\\users\\hsyn_\\appdata\\local\\programs\\python\\python310\\lib\\site-packages (from notebook>=5.6.0->jupyterthemes) (1.8.0)\n",
      "Requirement already satisfied: ipython-genutils in c:\\users\\hsyn_\\appdata\\local\\programs\\python\\python310\\lib\\site-packages (from notebook>=5.6.0->jupyterthemes) (0.2.0)\n",
      "Requirement already satisfied: prometheus-client in c:\\users\\hsyn_\\appdata\\local\\programs\\python\\python310\\lib\\site-packages (from notebook>=5.6.0->jupyterthemes) (0.14.1)\n",
      "Requirement already satisfied: jinja2 in c:\\users\\hsyn_\\appdata\\local\\programs\\python\\python310\\lib\\site-packages (from notebook>=5.6.0->jupyterthemes) (3.1.2)\n",
      "Requirement already satisfied: pywin32>=1.0 in c:\\users\\hsyn_\\appdata\\local\\programs\\python\\python310\\lib\\site-packages (from jupyter-core->jupyterthemes) (304)\n",
      "Requirement already satisfied: parso<0.9.0,>=0.8.0 in c:\\users\\hsyn_\\appdata\\local\\programs\\python\\python310\\lib\\site-packages (from jedi>=0.16->ipython>=5.4.1->jupyterthemes) (0.8.3)\n",
      "Requirement already satisfied: entrypoints in c:\\users\\hsyn_\\appdata\\local\\programs\\python\\python310\\lib\\site-packages (from jupyter-client>=5.3.4->notebook>=5.6.0->jupyterthemes) (0.4)\n",
      "Requirement already satisfied: MarkupSafe>=2.0 in c:\\users\\hsyn_\\appdata\\local\\programs\\python\\python310\\lib\\site-packages (from nbconvert>=5->notebook>=5.6.0->jupyterthemes) (2.1.1)\n",
      "Requirement already satisfied: pandocfilters>=1.4.1 in c:\\users\\hsyn_\\appdata\\local\\programs\\python\\python310\\lib\\site-packages (from nbconvert>=5->notebook>=5.6.0->jupyterthemes) (1.5.0)\n",
      "Requirement already satisfied: mistune<2,>=0.8.1 in c:\\users\\hsyn_\\appdata\\local\\programs\\python\\python310\\lib\\site-packages (from nbconvert>=5->notebook>=5.6.0->jupyterthemes) (0.8.4)\n",
      "Requirement already satisfied: jupyterlab-pygments in c:\\users\\hsyn_\\appdata\\local\\programs\\python\\python310\\lib\\site-packages (from nbconvert>=5->notebook>=5.6.0->jupyterthemes) (0.2.2)\n",
      "Requirement already satisfied: nbclient>=0.5.0 in c:\\users\\hsyn_\\appdata\\local\\programs\\python\\python310\\lib\\site-packages (from nbconvert>=5->notebook>=5.6.0->jupyterthemes) (0.6.3)\n",
      "Requirement already satisfied: bleach in c:\\users\\hsyn_\\appdata\\local\\programs\\python\\python310\\lib\\site-packages (from nbconvert>=5->notebook>=5.6.0->jupyterthemes) (5.0.0)\n",
      "Requirement already satisfied: tinycss2 in c:\\users\\hsyn_\\appdata\\local\\programs\\python\\python310\\lib\\site-packages (from nbconvert>=5->notebook>=5.6.0->jupyterthemes) (1.1.1)\n",
      "Requirement already satisfied: defusedxml in c:\\users\\hsyn_\\appdata\\local\\programs\\python\\python310\\lib\\site-packages (from nbconvert>=5->notebook>=5.6.0->jupyterthemes) (0.7.1)\n",
      "Requirement already satisfied: beautifulsoup4 in c:\\users\\hsyn_\\appdata\\local\\programs\\python\\python310\\lib\\site-packages (from nbconvert>=5->notebook>=5.6.0->jupyterthemes) (4.11.1)\n",
      "Requirement already satisfied: jsonschema>=2.6 in c:\\users\\hsyn_\\appdata\\local\\programs\\python\\python310\\lib\\site-packages (from nbformat->notebook>=5.6.0->jupyterthemes) (4.5.1)\n",
      "Requirement already satisfied: fastjsonschema in c:\\users\\hsyn_\\appdata\\local\\programs\\python\\python310\\lib\\site-packages (from nbformat->notebook>=5.6.0->jupyterthemes) (2.15.3)\n",
      "Requirement already satisfied: wcwidth in c:\\users\\hsyn_\\appdata\\local\\programs\\python\\python310\\lib\\site-packages (from prompt-toolkit!=3.0.0,!=3.0.1,<3.1.0,>=2.0.0->ipython>=5.4.1->jupyterthemes) (0.2.5)\n",
      "Requirement already satisfied: pywinpty>=1.1.0 in c:\\users\\hsyn_\\appdata\\local\\programs\\python\\python310\\lib\\site-packages (from terminado>=0.8.3->notebook>=5.6.0->jupyterthemes) (2.0.5)\n",
      "Requirement already satisfied: argon2-cffi-bindings in c:\\users\\hsyn_\\appdata\\local\\programs\\python\\python310\\lib\\site-packages (from argon2-cffi->notebook>=5.6.0->jupyterthemes) (21.2.0)\n",
      "Requirement already satisfied: psutil in c:\\users\\hsyn_\\appdata\\local\\programs\\python\\python310\\lib\\site-packages (from ipykernel->notebook>=5.6.0->jupyterthemes) (5.9.0)\n",
      "Requirement already satisfied: debugpy>=1.0 in c:\\users\\hsyn_\\appdata\\local\\programs\\python\\python310\\lib\\site-packages (from ipykernel->notebook>=5.6.0->jupyterthemes) (1.6.0)\n",
      "Requirement already satisfied: asttokens in c:\\users\\hsyn_\\appdata\\local\\programs\\python\\python310\\lib\\site-packages (from stack-data->ipython>=5.4.1->jupyterthemes) (2.0.5)\n",
      "Requirement already satisfied: executing in c:\\users\\hsyn_\\appdata\\local\\programs\\python\\python310\\lib\\site-packages (from stack-data->ipython>=5.4.1->jupyterthemes) (0.8.3)\n",
      "Requirement already satisfied: pure-eval in c:\\users\\hsyn_\\appdata\\local\\programs\\python\\python310\\lib\\site-packages (from stack-data->ipython>=5.4.1->jupyterthemes) (0.2.2)\n",
      "Requirement already satisfied: pyrsistent!=0.17.0,!=0.17.1,!=0.17.2,>=0.14.0 in c:\\users\\hsyn_\\appdata\\local\\programs\\python\\python310\\lib\\site-packages (from jsonschema>=2.6->nbformat->notebook>=5.6.0->jupyterthemes) (0.18.1)\n",
      "Requirement already satisfied: attrs>=17.4.0 in c:\\users\\hsyn_\\appdata\\local\\programs\\python\\python310\\lib\\site-packages (from jsonschema>=2.6->nbformat->notebook>=5.6.0->jupyterthemes) (21.4.0)\n",
      "Requirement already satisfied: cffi>=1.0.1 in c:\\users\\hsyn_\\appdata\\local\\programs\\python\\python310\\lib\\site-packages (from argon2-cffi-bindings->argon2-cffi->notebook>=5.6.0->jupyterthemes) (1.15.0)\n",
      "Requirement already satisfied: soupsieve>1.2 in c:\\users\\hsyn_\\appdata\\local\\programs\\python\\python310\\lib\\site-packages (from beautifulsoup4->nbconvert>=5->notebook>=5.6.0->jupyterthemes) (2.3.2.post1)\n",
      "Requirement already satisfied: webencodings in c:\\users\\hsyn_\\appdata\\local\\programs\\python\\python310\\lib\\site-packages (from bleach->nbconvert>=5->notebook>=5.6.0->jupyterthemes) (0.5.1)\n",
      "Requirement already satisfied: pycparser in c:\\users\\hsyn_\\appdata\\local\\programs\\python\\python310\\lib\\site-packages (from cffi>=1.0.1->argon2-cffi-bindings->argon2-cffi->notebook>=5.6.0->jupyterthemes) (2.21)\n",
      "Note: you may need to restart the kernel to use updated packages.\n"
     ]
    },
    {
     "name": "stderr",
     "output_type": "stream",
     "text": [
      "WARNING: You are using pip version 22.0.4; however, version 22.1 is available.\n",
      "You should consider upgrading via the 'C:\\Users\\hsyn_\\AppData\\Local\\Programs\\Python\\Python310\\python.exe -m pip install --upgrade pip' command.\n"
     ]
    }
   ],
   "source": [
    "pip install jupyterthemes"
   ]
  },
  {
   "cell_type": "code",
   "execution_count": 7,
   "id": "d4467f57",
   "metadata": {},
   "outputs": [
    {
     "ename": "NameError",
     "evalue": "name 'jupytertheme' is not defined",
     "output_type": "error",
     "traceback": [
      "\u001b[1;31m---------------------------------------------------------------------------\u001b[0m",
      "\u001b[1;31mNameError\u001b[0m                                 Traceback (most recent call last)",
      "Input \u001b[1;32mIn [7]\u001b[0m, in \u001b[0;36m<cell line: 1>\u001b[1;34m()\u001b[0m\n\u001b[1;32m----> 1\u001b[0m \u001b[43mjupytertheme\u001b[49m \u001b[38;5;241m-\u001b[39ml\n",
      "\u001b[1;31mNameError\u001b[0m: name 'jupytertheme' is not defined"
     ]
    }
   ],
   "source": [
    "jupytertheme -l"
   ]
  },
  {
   "cell_type": "code",
   "execution_count": null,
   "id": "2d3a9618",
   "metadata": {},
   "outputs": [],
   "source": [
    "jt -t grade3"
   ]
  },
  {
   "cell_type": "markdown",
   "id": "be43b889",
   "metadata": {},
   "source": [
    "## MAP FUNC"
   ]
  },
  {
   "cell_type": "code",
   "execution_count": null,
   "id": "93b9b791",
   "metadata": {},
   "outputs": [],
   "source": [
    "sayilar=[1,2,3,4,5]"
   ]
  },
  {
   "cell_type": "code",
   "execution_count": null,
   "id": "04ed316a",
   "metadata": {},
   "outputs": [],
   "source": [
    "boslist=[]\n",
    "def karesi(x):\n",
    "    return x**2"
   ]
  },
  {
   "cell_type": "code",
   "execution_count": null,
   "id": "de41c6ad",
   "metadata": {},
   "outputs": [],
   "source": [
    "for i in sayilar:\n",
    "    \n",
    "    boslist.append(karesi(i))\n",
    "    "
   ]
  },
  {
   "cell_type": "code",
   "execution_count": null,
   "id": "322515b1",
   "metadata": {},
   "outputs": [],
   "source": [
    "print(boslist)"
   ]
  },
  {
   "cell_type": "code",
   "execution_count": null,
   "id": "196f6dfc",
   "metadata": {},
   "outputs": [],
   "source": [
    "sonuc= map(karesi,sayilar)"
   ]
  },
  {
   "cell_type": "code",
   "execution_count": null,
   "id": "05012665",
   "metadata": {},
   "outputs": [],
   "source": [
    "print(list(sonuc))"
   ]
  },
  {
   "cell_type": "code",
   "execution_count": null,
   "id": "496749f4",
   "metadata": {},
   "outputs": [],
   "source": [
    "sonuc2= map(lambda x: x**2,sayilar)"
   ]
  },
  {
   "cell_type": "code",
   "execution_count": null,
   "id": "b08c8a6e",
   "metadata": {},
   "outputs": [],
   "source": [
    "print(sonuc2)"
   ]
  },
  {
   "cell_type": "code",
   "execution_count": null,
   "id": "5db19629",
   "metadata": {},
   "outputs": [],
   "source": [
    "print(list(sonuc2))"
   ]
  },
  {
   "cell_type": "code",
   "execution_count": null,
   "id": "4620ba4f",
   "metadata": {},
   "outputs": [],
   "source": [
    "listem1=[12,12,54,2,54,1,45,78]\n",
    "listem2=[43,3,6,98,32,1,78,23,32]\n",
    "\n",
    "def kucuk(x,y):\n",
    "    if x<y:\n",
    "        return x\n",
    "    return y\n",
    "\n",
    "sonuck=map(kucuk,listem1,listem2)\n"
   ]
  },
  {
   "cell_type": "code",
   "execution_count": null,
   "id": "38e81a21",
   "metadata": {},
   "outputs": [],
   "source": [
    "print(list(sonuck))"
   ]
  },
  {
   "cell_type": "markdown",
   "id": "8c29aa7f",
   "metadata": {},
   "source": [
    "## zip fonk"
   ]
  },
  {
   "cell_type": "code",
   "execution_count": null,
   "id": "7a03e54b",
   "metadata": {},
   "outputs": [],
   "source": [
    "liste1=[1,4,5,2]\n",
    "liste2=[\"ali\",\"veli\",\"osman\"]\n",
    "\n",
    "son=zip(liste1,liste2)"
   ]
  },
  {
   "cell_type": "code",
   "execution_count": null,
   "id": "01636972",
   "metadata": {},
   "outputs": [],
   "source": [
    "print(list(son))"
   ]
  },
  {
   "cell_type": "markdown",
   "id": "932c760f",
   "metadata": {},
   "source": [
    "## reduce fonk\n"
   ]
  },
  {
   "cell_type": "code",
   "execution_count": null,
   "id": "3fbfa149",
   "metadata": {},
   "outputs": [],
   "source": [
    "numbers=[12,14,65,21,56,218,21]\n",
    "max(numbers)"
   ]
  },
  {
   "cell_type": "code",
   "execution_count": null,
   "id": "8c7f5394",
   "metadata": {},
   "outputs": [],
   "source": [
    "def find_max(x,y):\n",
    "    if x>y:\n",
    "        return x\n",
    "    return y\n",
    "\n"
   ]
  },
  {
   "cell_type": "code",
   "execution_count": null,
   "id": "ec800a6a",
   "metadata": {},
   "outputs": [],
   "source": [
    "sonuc=reduce(find_max, numbers)\n",
    "print(sonuc)"
   ]
  },
  {
   "cell_type": "code",
   "execution_count": null,
   "id": "ec691c5f",
   "metadata": {},
   "outputs": [],
   "source": [
    "from functools import reduce"
   ]
  },
  {
   "cell_type": "markdown",
   "id": "30b2e187",
   "metadata": {},
   "source": [
    "## filter fonk"
   ]
  },
  {
   "cell_type": "code",
   "execution_count": null,
   "id": "4398a6e8",
   "metadata": {},
   "outputs": [],
   "source": [
    "isim=[\"sinan\",\"erdinc\",\"ali\"]\n",
    "tarih=[1990,1995,1975]\n",
    "\n",
    "sonuc1=zip(isim,tarih)\n",
    "print(list(sonuc1))"
   ]
  },
  {
   "cell_type": "code",
   "execution_count": null,
   "id": "fb7000cf",
   "metadata": {},
   "outputs": [],
   "source": [
    "a=filter(lambda x: x<1990, tarih)"
   ]
  },
  {
   "cell_type": "code",
   "execution_count": null,
   "id": "6fedb8b1",
   "metadata": {},
   "outputs": [],
   "source": [
    "print(list(a))"
   ]
  },
  {
   "cell_type": "markdown",
   "id": "2f7440cf",
   "metadata": {},
   "source": [
    "## product "
   ]
  },
  {
   "cell_type": "code",
   "execution_count": 8,
   "id": "d29f6787",
   "metadata": {},
   "outputs": [],
   "source": [
    "from itertools import product"
   ]
  },
  {
   "cell_type": "code",
   "execution_count": 10,
   "id": "a9aff7ca",
   "metadata": {},
   "outputs": [
    {
     "name": "stdout",
     "output_type": "stream",
     "text": [
      "('a', 0)\n",
      "('a', 1)\n",
      "('a', 2)\n",
      "('b', 0)\n",
      "('b', 1)\n",
      "('b', 2)\n",
      "('c', 0)\n",
      "('c', 1)\n",
      "('c', 2)\n",
      "(';', 0)\n",
      "(';', 1)\n",
      "(';', 2)\n"
     ]
    }
   ],
   "source": [
    "for i in product('abc;', range (3)):\n",
    "    print(i)"
   ]
  },
  {
   "cell_type": "code",
   "execution_count": 17,
   "id": "b9559eb9",
   "metadata": {},
   "outputs": [
    {
     "name": "stdout",
     "output_type": "stream",
     "text": [
      "(1, 2, 1)\n",
      "(1, 2, 4)\n",
      "(1, 3, 1)\n",
      "(1, 3, 4)\n",
      "(0, 2, 1)\n",
      "(0, 2, 4)\n",
      "(0, 3, 1)\n",
      "(0, 3, 4)\n"
     ]
    }
   ],
   "source": [
    "for i in product((1,0),(2,3),(1,4)):\n",
    "    print(i)"
   ]
  },
  {
   "cell_type": "code",
   "execution_count": 1,
   "id": "93e5c522",
   "metadata": {},
   "outputs": [],
   "source": [
    "liste1=[1,2,3,4,5,6,7,8]"
   ]
  },
  {
   "cell_type": "code",
   "execution_count": 4,
   "id": "0089feb9",
   "metadata": {},
   "outputs": [],
   "source": [
    "sumall=list(map(lambda x:x%2 == 1,liste1))"
   ]
  },
  {
   "cell_type": "code",
   "execution_count": 10,
   "id": "8c7a3a47",
   "metadata": {},
   "outputs": [
    {
     "ename": "TypeError",
     "evalue": "'list' object is not callable",
     "output_type": "error",
     "traceback": [
      "\u001b[1;31m---------------------------------------------------------------------------\u001b[0m",
      "\u001b[1;31mTypeError\u001b[0m                                 Traceback (most recent call last)",
      "Input \u001b[1;32mIn [10]\u001b[0m, in \u001b[0;36m<cell line: 1>\u001b[1;34m()\u001b[0m\n\u001b[1;32m----> 1\u001b[0m \u001b[38;5;28mprint\u001b[39m(\u001b[43msumall\u001b[49m\u001b[43m(\u001b[49m\u001b[43msumall\u001b[49m\u001b[43m)\u001b[49m)\n",
      "\u001b[1;31mTypeError\u001b[0m: 'list' object is not callable"
     ]
    }
   ],
   "source": []
  },
  {
   "cell_type": "code",
   "execution_count": null,
   "id": "1ea589d2",
   "metadata": {},
   "outputs": [],
   "source": []
  }
 ],
 "metadata": {
  "kernelspec": {
   "display_name": "Python 3 (ipykernel)",
   "language": "python",
   "name": "python3"
  },
  "language_info": {
   "codemirror_mode": {
    "name": "ipython",
    "version": 3
   },
   "file_extension": ".py",
   "mimetype": "text/x-python",
   "name": "python",
   "nbconvert_exporter": "python",
   "pygments_lexer": "ipython3",
   "version": "3.10.4"
  }
 },
 "nbformat": 4,
 "nbformat_minor": 5
}
